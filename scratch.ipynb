{
 "cells": [
  {
   "cell_type": "code",
   "execution_count": 1,
   "id": "d9040a72-3d2e-4561-aa5c-e8765cad4fdb",
   "metadata": {},
   "outputs": [],
   "source": [
    "from sage.all import *\n",
    "from utils import *"
   ]
  },
  {
   "cell_type": "code",
   "execution_count": 63,
   "id": "341b992b-7bf9-4727-ad36-59cd5fe01fe9",
   "metadata": {},
   "outputs": [],
   "source": [
    "y = vec(1, 3, 5)\n",
    "U = mat([1, 5], [3, 1], [-2, 4])\n",
    "n = len(U.columns())"
   ]
  },
  {
   "cell_type": "code",
   "execution_count": 64,
   "id": "29e72a24-d222-4ae8-bbb9-3e6301c180fb",
   "metadata": {},
   "outputs": [
    {
     "data": {
      "text/html": [
       "<html>\\(\\displaystyle \\left(\\verb|u_{|, 0, \\verb|}|\\verb| |\\verb|\\cdot|\\verb| |\\verb|u_{}},|\\verb| |\\verb|1|\\verb|}=|\\right) \\left[\\begin{array}{r}\n",
       "1 \\\\\n",
       "3 \\\\\n",
       "-2\n",
       "\\end{array}\\right] \\cdot \\left[\\begin{array}{r}\n",
       "5 \\\\\n",
       "1 \\\\\n",
       "4\n",
       "\\end{array}\\right] = 0\\)</html>"
      ],
      "text/latex": [
       "$\\displaystyle \\left(\\verb|u_{|, 0, \\verb|}|\\verb| |\\verb|\\cdot|\\verb| |\\verb|u_{}},|\\verb| |\\verb|1|\\verb|}=|\\right) \\left[\\begin{array}{r}\n",
       "1 \\\\\n",
       "3 \\\\\n",
       "-2\n",
       "\\end{array}\\right] \\cdot \\left[\\begin{array}{r}\n",
       "5 \\\\\n",
       "1 \\\\\n",
       "4\n",
       "\\end{array}\\right] = 0$"
      ],
      "text/plain": [
       "\\left(\\text{\\texttt{u{\\char`\\_}{\\char`\\{}}}, 0, \\text{\\texttt{{\\char`\\}}{ }{\\char`\\\\}cdot{ }u{\\char`\\_}{\\char`\\{}}}, 1, \\text{\\texttt{{\\char`\\}}=}}\\right) \\left[\\begin{array}{r}\n",
       "1 \\\\\n",
       "3 \\\\\n",
       "-2\n",
       "\\end{array}\\right] \\cdot \\left[\\begin{array}{r}\n",
       "5 \\\\\n",
       "1 \\\\\n",
       "4\n",
       "\\end{array}\\right] = 0"
      ]
     },
     "metadata": {},
     "output_type": "display_data"
    }
   ],
   "source": [
    "for i in range(n - 1):\n",
    "    v_1 = U.column(i)\n",
    "    for j in range(i + 1, n):\n",
    "        v_2 = U.column(j)\n",
    "        p(('u_{', i, r'} \\cdot u_{', j, '}='), v_1, r'\\cdot', v_2, '=', v_1.dot_product(v_2))"
   ]
  },
  {
   "cell_type": "code",
   "execution_count": 55,
   "id": "5eb9c6a8-d798-4c22-b856-a17bc6b6d689",
   "metadata": {},
   "outputs": [],
   "source": [
    "U = mat(u_1, u_2).T"
   ]
  },
  {
   "cell_type": "code",
   "execution_count": 56,
   "id": "6360f6a5-1e7f-4eae-aa93-da98e237fdf1",
   "metadata": {},
   "outputs": [
    {
     "data": {
      "text/html": [
       "<html>\\(\\displaystyle \\left[\\begin{array}{rr}\n",
       "14 & 0 \\\\\n",
       "0 & 42\n",
       "\\end{array}\\right]\\)</html>"
      ],
      "text/latex": [
       "$\\displaystyle \\left[\\begin{array}{rr}\n",
       "14 & 0 \\\\\n",
       "0 & 42\n",
       "\\end{array}\\right]$"
      ],
      "text/plain": [
       "[14  0]\n",
       "[ 0 42]"
      ]
     },
     "execution_count": 56,
     "metadata": {},
     "output_type": "execute_result"
    }
   ],
   "source": [
    "U.T * U"
   ]
  },
  {
   "cell_type": "code",
   "execution_count": 57,
   "id": "eb637a1c-2be8-436a-939e-1f5b45d8c5d6",
   "metadata": {},
   "outputs": [
    {
     "data": {
      "text/html": [
       "<html>\\(\\displaystyle \\left[\\begin{array}{rrr}\n",
       "26 & 8 & 18 \\\\\n",
       "8 & 10 & -2 \\\\\n",
       "18 & -2 & 20\n",
       "\\end{array}\\right]\\)</html>"
      ],
      "text/latex": [
       "$\\displaystyle \\left[\\begin{array}{rrr}\n",
       "26 & 8 & 18 \\\\\n",
       "8 & 10 & -2 \\\\\n",
       "18 & -2 & 20\n",
       "\\end{array}\\right]$"
      ],
      "text/plain": [
       "[26  8 18]\n",
       "[ 8 10 -2]\n",
       "[18 -2 20]"
      ]
     },
     "execution_count": 57,
     "metadata": {},
     "output_type": "execute_result"
    }
   ],
   "source": [
    "U * U.T"
   ]
  },
  {
   "cell_type": "code",
   "execution_count": 58,
   "id": "058c56f8-d9ec-4776-92d9-30f14886d2db",
   "metadata": {},
   "outputs": [
    {
     "data": {
      "text/html": [
       "<html>\\(\\displaystyle \\left[\\frac{10}{3},\\,\\frac{2}{3},\\,\\frac{8}{3}\\right]\\)</html>"
      ],
      "text/latex": [
       "$\\displaystyle \\left[\\frac{10}{3},\\,\\frac{2}{3},\\,\\frac{8}{3}\\right]$"
      ],
      "text/plain": [
       "(10/3, 2/3, 8/3)"
      ]
     },
     "execution_count": 58,
     "metadata": {},
     "output_type": "execute_result"
    }
   ],
   "source": [
    "project(y, U.columns())"
   ]
  },
  {
   "cell_type": "code",
   "execution_count": 59,
   "id": "850fa9a4-5a90-4169-95cb-bd7e26a183ce",
   "metadata": {},
   "outputs": [
    {
     "data": {
      "text/html": [
       "<html>\\(\\displaystyle \\left[140,\\,28,\\,112\\right]\\)</html>"
      ],
      "text/latex": [
       "$\\displaystyle \\left[140,\\,28,\\,112\\right]$"
      ],
      "text/plain": [
       "(140, 28, 112)"
      ]
     },
     "execution_count": 59,
     "metadata": {},
     "output_type": "execute_result"
    }
   ],
   "source": [
    "U * U.T * y"
   ]
  },
  {
   "cell_type": "code",
   "execution_count": 60,
   "id": "0a6a3ee1-0350-4b54-b8e7-96ef3459c37f",
   "metadata": {},
   "outputs": [],
   "source": [
    "y = vec(0, 1, 0)\n",
    "y_hat = project(y, [vec(2, 3, -3), vec(6, -2, 2)])"
   ]
  },
  {
   "cell_type": "code",
   "execution_count": 61,
   "id": "e75af634-2368-4f5d-941c-07c54e4d1f50",
   "metadata": {},
   "outputs": [
    {
     "data": {
      "text/html": [
       "<html>\\(\\displaystyle \\left[0,\\,\\frac{1}{2},\\,\\frac{1}{2}\\right]\\)</html>"
      ],
      "text/latex": [
       "$\\displaystyle \\left[0,\\,\\frac{1}{2},\\,\\frac{1}{2}\\right]$"
      ],
      "text/plain": [
       "(0, 1/2, 1/2)"
      ]
     },
     "execution_count": 61,
     "metadata": {},
     "output_type": "execute_result"
    }
   ],
   "source": [
    "y - y_hat"
   ]
  },
  {
   "cell_type": "code",
   "execution_count": null,
   "id": "f058e328-93c9-4cf6-856b-52447e44f1b8",
   "metadata": {},
   "outputs": [],
   "source": []
  },
  {
   "cell_type": "code",
   "execution_count": null,
   "id": "0dda6c8d-2545-4cfa-a5e1-da8d589f1d9e",
   "metadata": {},
   "outputs": [],
   "source": []
  }
 ],
 "metadata": {
  "kernelspec": {
   "display_name": "SageMath 10.2",
   "language": "sage",
   "name": "sagemath"
  },
  "language_info": {
   "codemirror_mode": {
    "name": "ipython",
    "version": 3
   },
   "file_extension": ".py",
   "mimetype": "text/x-python",
   "name": "python",
   "nbconvert_exporter": "python",
   "pygments_lexer": "ipython3",
   "version": "3.11.9"
  }
 },
 "nbformat": 4,
 "nbformat_minor": 5
}
