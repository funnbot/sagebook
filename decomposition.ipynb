{
 "cells": [
  {
   "cell_type": "code",
   "execution_count": 57,
   "id": "c4623656-8685-426f-aed4-74873b518324",
   "metadata": {},
   "outputs": [],
   "source": [
    "from sage.all import *\n",
    "from utils import *"
   ]
  },
  {
   "cell_type": "code",
   "execution_count": 110,
   "id": "b83444b5-0cc4-4873-aa3a-231379b767f7",
   "metadata": {},
   "outputs": [],
   "source": [
    "B = [vec(2/3, 1/3, 2/3), vec(-2/3, 2/3, 1/3)]\n",
    "C = [vec(-4, 3, -3, 3), vec(1, 0, 1, -6)]\n",
    "x = vec(4, 5, 1)"
   ]
  },
  {
   "cell_type": "code",
   "execution_count": 111,
   "id": "4cf08166-e9af-4277-80e2-5884f91133e2",
   "metadata": {},
   "outputs": [
    {
     "data": {
      "text/html": [
       "<html>\\(\\displaystyle B= \\left( \\left[\\begin{array}{r}\n",
       "\\frac{2}{3} \\\\\n",
       "\\frac{1}{3} \\\\\n",
       "\\frac{2}{3}\n",
       "\\end{array}\\right] , \\left[\\begin{array}{r}\n",
       "-\\frac{2}{3} \\\\\n",
       "\\frac{2}{3} \\\\\n",
       "\\frac{1}{3}\n",
       "\\end{array}\\right] \\right)\\)</html>"
      ],
      "text/latex": [
       "$\\displaystyle B= \\left( \\left[\\begin{array}{r}\n",
       "\\frac{2}{3} \\\\\n",
       "\\frac{1}{3} \\\\\n",
       "\\frac{2}{3}\n",
       "\\end{array}\\right] , \\left[\\begin{array}{r}\n",
       "-\\frac{2}{3} \\\\\n",
       "\\frac{2}{3} \\\\\n",
       "\\frac{1}{3}\n",
       "\\end{array}\\right] \\right)$"
      ],
      "text/plain": [
       "B= \\left( \\left[\\begin{array}{r}\n",
       "\\frac{2}{3} \\\\\n",
       "\\frac{1}{3} \\\\\n",
       "\\frac{2}{3}\n",
       "\\end{array}\\right] , \\left[\\begin{array}{r}\n",
       "-\\frac{2}{3} \\\\\n",
       "\\frac{2}{3} \\\\\n",
       "\\frac{1}{3}\n",
       "\\end{array}\\right] \\right)"
      ]
     },
     "metadata": {},
     "output_type": "display_data"
    },
    {
     "data": {
      "text/html": [
       "<html>\\(\\displaystyle C= \\left( \\left[\\begin{array}{r}\n",
       "-4 \\\\\n",
       "3 \\\\\n",
       "-3 \\\\\n",
       "3\n",
       "\\end{array}\\right] , \\left[\\begin{array}{r}\n",
       "1 \\\\\n",
       "0 \\\\\n",
       "1 \\\\\n",
       "-6\n",
       "\\end{array}\\right] \\right)\\)</html>"
      ],
      "text/latex": [
       "$\\displaystyle C= \\left( \\left[\\begin{array}{r}\n",
       "-4 \\\\\n",
       "3 \\\\\n",
       "-3 \\\\\n",
       "3\n",
       "\\end{array}\\right] , \\left[\\begin{array}{r}\n",
       "1 \\\\\n",
       "0 \\\\\n",
       "1 \\\\\n",
       "-6\n",
       "\\end{array}\\right] \\right)$"
      ],
      "text/plain": [
       "C= \\left( \\left[\\begin{array}{r}\n",
       "-4 \\\\\n",
       "3 \\\\\n",
       "-3 \\\\\n",
       "3\n",
       "\\end{array}\\right] , \\left[\\begin{array}{r}\n",
       "1 \\\\\n",
       "0 \\\\\n",
       "1 \\\\\n",
       "-6\n",
       "\\end{array}\\right] \\right)"
      ]
     },
     "metadata": {},
     "output_type": "display_data"
    },
    {
     "data": {
      "text/html": [
       "<html>\\(\\displaystyle x= \\left[\\begin{array}{r}\n",
       "4 \\\\\n",
       "5 \\\\\n",
       "1\n",
       "\\end{array}\\right]\\)</html>"
      ],
      "text/latex": [
       "$\\displaystyle x= \\left[\\begin{array}{r}\n",
       "4 \\\\\n",
       "5 \\\\\n",
       "1\n",
       "\\end{array}\\right]$"
      ],
      "text/plain": [
       "x= \\left[\\begin{array}{r}\n",
       "4 \\\\\n",
       "5 \\\\\n",
       "1\n",
       "\\end{array}\\right]"
      ]
     },
     "metadata": {},
     "output_type": "display_data"
    },
    {
     "data": {
      "text/html": [
       "<html>\\(\\displaystyle b_1 \\cdot b_2 = 0 , \\rVert b_1 \\lVert =  1 , \\rVert b_2 \\lVert =  1\\)</html>"
      ],
      "text/latex": [
       "$\\displaystyle b_1 \\cdot b_2 = 0 , \\rVert b_1 \\lVert =  1 , \\rVert b_2 \\lVert =  1$"
      ],
      "text/plain": [
       "b_1 \\cdot b_2 = 0 , \\rVert b_1 \\lVert =  1 , \\rVert b_2 \\lVert =  1"
      ]
     },
     "metadata": {},
     "output_type": "display_data"
    }
   ],
   "source": [
    "p('B=', B)\n",
    "p('C=', C)\n",
    "p('x=', x)\n",
    "p(r'b_1 \\cdot b_2 =', B[0].dot_product(B[1]),\n",
    "  r', \\rVert b_1 \\lVert = ', B[0].norm(),\n",
    "  r', \\rVert b_2 \\lVert = ', B[1].norm())"
   ]
  },
  {
   "cell_type": "code",
   "execution_count": 112,
   "id": "283cc6b3-0993-49ab-b337-0c3f2ee43064",
   "metadata": {},
   "outputs": [],
   "source": [
    "y_hat = x.parent().zero()\n",
    "for b_i in B:\n",
    "    dots = x.dot_product(b_i) / b_i.dot_product(b_i)\n",
    "    v = dots * b_i\n",
    "    y_hat = y_hat + v\n",
    "z = x - y_hat"
   ]
  },
  {
   "cell_type": "code",
   "execution_count": 113,
   "id": "cde7ed4d-062f-4256-80c3-2206bf3db86f",
   "metadata": {},
   "outputs": [
    {
     "data": {
      "text/html": [
       "<html>\\(\\displaystyle x = \\left[\\begin{array}{r}\n",
       "\\frac{8}{3} \\\\\n",
       "\\frac{7}{3} \\\\\n",
       "\\frac{11}{3}\n",
       "\\end{array}\\right] + \\left[\\begin{array}{r}\n",
       "\\frac{4}{3} \\\\\n",
       "\\frac{8}{3} \\\\\n",
       "-\\frac{8}{3}\n",
       "\\end{array}\\right]\\)</html>"
      ],
      "text/latex": [
       "$\\displaystyle x = \\left[\\begin{array}{r}\n",
       "\\frac{8}{3} \\\\\n",
       "\\frac{7}{3} \\\\\n",
       "\\frac{11}{3}\n",
       "\\end{array}\\right] + \\left[\\begin{array}{r}\n",
       "\\frac{4}{3} \\\\\n",
       "\\frac{8}{3} \\\\\n",
       "-\\frac{8}{3}\n",
       "\\end{array}\\right]$"
      ],
      "text/plain": [
       "x = \\left[\\begin{array}{r}\n",
       "\\frac{8}{3} \\\\\n",
       "\\frac{7}{3} \\\\\n",
       "\\frac{11}{3}\n",
       "\\end{array}\\right] + \\left[\\begin{array}{r}\n",
       "\\frac{4}{3} \\\\\n",
       "\\frac{8}{3} \\\\\n",
       "-\\frac{8}{3}\n",
       "\\end{array}\\right]"
      ]
     },
     "metadata": {},
     "output_type": "display_data"
    },
    {
     "data": {
      "text/html": [
       "<html>\\(\\displaystyle 0\\)</html>"
      ],
      "text/latex": [
       "$\\displaystyle 0$"
      ],
      "text/plain": [
       "0"
      ]
     },
     "execution_count": 113,
     "metadata": {},
     "output_type": "execute_result"
    }
   ],
   "source": [
    "p('x =', y_hat, '+', z)\n",
    "y_hat.dot_product(z)"
   ]
  },
  {
   "cell_type": "code",
   "execution_count": 114,
   "id": "58073f3c-408e-40ab-bd9b-315fa61cb0af",
   "metadata": {},
   "outputs": [
    {
     "data": {
      "text/html": [
       "<html>\\(\\displaystyle \\text{dist} = 4\\)</html>"
      ],
      "text/latex": [
       "$\\displaystyle \\text{dist} = 4$"
      ],
      "text/plain": [
       "\\text{dist} = 4"
      ]
     },
     "metadata": {},
     "output_type": "display_data"
    }
   ],
   "source": [
    "p(r'\\text{dist} =', (x - y_hat).norm())"
   ]
  },
  {
   "cell_type": "code",
   "execution_count": 116,
   "id": "96f24f52-a5eb-41e8-9a09-8906d333c6f9",
   "metadata": {},
   "outputs": [
    {
     "data": {
      "text/html": [
       "<html>\\(\\displaystyle \\left[\\begin{array}{rrr}\n",
       "\\frac{8}{9} & -\\frac{2}{9} & \\frac{2}{9} \\\\\n",
       "-\\frac{2}{9} & \\frac{5}{9} & \\frac{4}{9} \\\\\n",
       "\\frac{2}{9} & \\frac{4}{9} & \\frac{5}{9}\n",
       "\\end{array}\\right]\\)</html>"
      ],
      "text/latex": [
       "$\\displaystyle \\left[\\begin{array}{rrr}\n",
       "\\frac{8}{9} & -\\frac{2}{9} & \\frac{2}{9} \\\\\n",
       "-\\frac{2}{9} & \\frac{5}{9} & \\frac{4}{9} \\\\\n",
       "\\frac{2}{9} & \\frac{4}{9} & \\frac{5}{9}\n",
       "\\end{array}\\right]$"
      ],
      "text/plain": [
       "[ 8/9 -2/9  2/9]\n",
       "[-2/9  5/9  4/9]\n",
       "[ 2/9  4/9  5/9]"
      ]
     },
     "execution_count": 116,
     "metadata": {},
     "output_type": "execute_result"
    }
   ],
   "source": [
    "U = matrix(QQ, [B[0], B[1]]).T\n",
    "U * U.T"
   ]
  },
  {
   "cell_type": "code",
   "execution_count": 117,
   "id": "cfcae2c9-c8a9-4480-a805-676354a9aeb3",
   "metadata": {},
   "outputs": [
    {
     "data": {
      "text/html": [
       "<html>\\(\\displaystyle \\left[\\frac{8}{3},\\,\\frac{7}{3},\\,\\frac{11}{3}\\right]\\)</html>"
      ],
      "text/latex": [
       "$\\displaystyle \\left[\\frac{8}{3},\\,\\frac{7}{3},\\,\\frac{11}{3}\\right]$"
      ],
      "text/plain": [
       "(8/3, 7/3, 11/3)"
      ]
     },
     "execution_count": 117,
     "metadata": {},
     "output_type": "execute_result"
    }
   ],
   "source": [
    "U * U.T * x"
   ]
  },
  {
   "cell_type": "code",
   "execution_count": null,
   "id": "35020a9f-34a9-4972-889e-8d0b0839f60e",
   "metadata": {},
   "outputs": [],
   "source": []
  }
 ],
 "metadata": {
  "kernelspec": {
   "display_name": "SageMath 10.2",
   "language": "sage",
   "name": "sagemath"
  },
  "language_info": {
   "codemirror_mode": {
    "name": "ipython",
    "version": 3
   },
   "file_extension": ".py",
   "mimetype": "text/x-python",
   "name": "python",
   "nbconvert_exporter": "python",
   "pygments_lexer": "ipython3",
   "version": "3.11.9"
  }
 },
 "nbformat": 4,
 "nbformat_minor": 5
}
